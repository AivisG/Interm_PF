{
 "cells": [
  {
   "cell_type": "code",
   "execution_count": 1,
   "id": "c9fe6e48-959a-45d8-8ed7-7d203bf807c7",
   "metadata": {},
   "outputs": [],
   "source": [
    "import numpy as np\n",
    "import pandas as pd\n",
    "import matplotlib.pyplot as plt\n",
    "import tensorflow as tf\n",
    "\n",
    "import utils\n",
    "import stock_data_fetcher\n",
    "from stock_plotter import StockPlotter\n",
    "from models import Models\n",
    "from model_evaluator import ModelEvaluator\n",
    "from time_series_visualizer import TimeSeriesVisualizer\n",
    "from transformer_model import TimeSeriesTransformer\n",
    "from lstm_transformer_model import LSTMTransformer\n",
    "from backtest import BacktestStrategy\n",
    "\n",
    "from matplotlib.backends.backend_pdf import PdfPages"
   ]
  },
  {
   "cell_type": "markdown",
   "id": "51c64490-15a0-480c-9dfb-33b409b07a19",
   "metadata": {},
   "source": [
    "# from csv file\n",
    "stock_data = pd.read_csv(\"uber.csv\")\n",
    "print(stock_data.head())\n",
    "ticker = \"uber(csv)\" \n",
    "print(ticker)"
   ]
  },
  {
   "cell_type": "code",
   "execution_count": null,
   "id": "4cc1c69d-a323-466d-b863-bbae8685b6f8",
   "metadata": {},
   "outputs": [
    {
     "name": "stdout",
     "output_type": "stream",
     "text": [
      "Saving plots to PDF: results/results AAPL 2022-01-01 - 2025-01-01.pdf\n"
     ]
    },
    {
     "name": "stderr",
     "output_type": "stream",
     "text": [
      "[*********************100%***********************]  1 of 1 completed"
     ]
    }
   ],
   "source": [
    "import utils\n",
    "import stock_data_fetcher\n",
    "from stock_plotter import StockPlotter\n",
    "import numpy as np\n",
    "import tensorflow as tf\n",
    "\n",
    "ticker = \"AAPL\"\n",
    "start = \"2022-01-01\"\n",
    "end = \"2025-01-01\"\n",
    "interval = \"1d\"\n",
    "filename = f\"results {ticker} {start} - {end}.pdf\"\n",
    "\n",
    "if __name__ == \"__main__\":\n",
    "    # ✅ Open a single PDF file for all plots\n",
    "    pdf_path = f\"results/{filename}\"\n",
    "    pdf_pages = PdfPages(pdf_path)\n",
    "\n",
    "    print(f\"Saving plots to PDF: {pdf_path}\")\n",
    "\n",
    "    # ✅ Fetch stock data\n",
    "    stock_fetcher = stock_data_fetcher.StockDataFetcher(ticker, start, end, interval)\n",
    "    stock_data = stock_fetcher.fetch_data()\n",
    "\n",
    "    # ✅ Add technical indicators\n",
    "    df = utils.add_technical_indicators(stock_data)\n",
    "\n",
    "    # ✅ Prepare features\n",
    "    df_scaled, scaler = utils.prepare_features(df)\n",
    "    sequence_length = 15\n",
    "    X, y = utils.create_sequences(df_scaled[19:], sequence_length)\n",
    "\n",
    "    train_size = int(len(X) * 0.8)\n",
    "    X_train, X_test = X[:train_size], X[train_size:]\n",
    "    y_train, y_test = y[:train_size], y[train_size:]\n",
    "\n",
    "    X_train = np.array(X_train, dtype=np.float32)\n",
    "    y_train = np.array(y_train, dtype=np.float32)\n",
    "\n",
    "    # ✅ Plot stock data and save to the first page\n",
    "    plotter = StockPlotter(stock_data, ticker)\n",
    "    fig1 = plotter.plot()\n",
    "    pdf_pages.savefig(fig1)  # Save stock plot to the first page\n",
    "    print(\"Stock plot saved to PDF (Page 1).\")"
   ]
  },
  {
   "cell_type": "code",
   "execution_count": null,
   "id": "fa24f3e4-864a-4a9c-a14a-48b17f41f2a9",
   "metadata": {},
   "outputs": [],
   "source": [
    "# Define input shape\n",
    "n_features = X_train.shape[2]\n",
    "lstm_model = Models.LSTM_Model(sequence_length, n_features)\n",
    "# Tune hyperparameters\n",
    "best_params = lstm_model.tune_hyperparameters(X_train, y_train)\n",
    "##print(\"Best Hyperparameters Found:\", best_params.values)\n",
    "# Train with the best hyperparameters\n",
    "history = lstm_model.fit(X_train, y_train, epochs=20, batch_size=32, validation_split=0.1)\n",
    "predictions = lstm_model.predict(X_test)\n",
    "#print(predictions)\n",
    "y_pred_lstm = predictions.flatten()\n",
    "print(type(y_pred_lstm))\n",
    "print(y_pred_lstm)"
   ]
  },
  {
   "cell_type": "markdown",
   "id": "5ba85e84-adda-40dd-830c-91246dd8ea13",
   "metadata": {},
   "source": [
    "xgb_model = Models.XGB_Model(n_estimators=150, max_depth=8, learning_rate=0.05, gamma=0.3, subsample=0.9)\n",
    "xgb_model.summary()\n",
    "xgb_model.fit(X_train, y_train)\n",
    "predictions = xgb_model.predict(X_test)\n",
    "y_pred_xgb = predictions.flatten()\n",
    "##print(type(y_pred_xgb))\n",
    "print(y_pred_xgb)"
   ]
  },
  {
   "cell_type": "markdown",
   "id": "ae191daf-1e39-4591-8a93-b50bd73b9137",
   "metadata": {},
   "source": [
    "gp_model = Models.GP_Model()\n",
    "gp_model.fit(X_train, y_train)\n",
    "\n",
    "# Predict with confidence intervals\n",
    "y_pred_gp, sigma_gp = gp_model.predict(X_test, return_std=True)\n",
    "\n",
    "# Print predictions and standard deviation (sigma)\n",
    "##print(\"Type of y_pred_gp:\", type(y_pred_gp))\n",
    "##print(\"Predictions:\", y_pred_gp)\n",
    "##print(\"Sigma (Uncertainty):\", sigma_gp)"
   ]
  },
  {
   "cell_type": "markdown",
   "id": "7bb1086e-f563-4e38-8323-fb2d256519f1",
   "metadata": {},
   "source": [
    "# Define input feature size dynamically from X_train\n",
    "input_feature_size = X_train.shape[-1]  # Extracts the number of features\n",
    "\n",
    "transformer_model = LSTMTransformer(\n",
    "    num_layers=4,\n",
    "    d_model=input_feature_size,  # Set `d_model` to the number of input features\n",
    "    num_heads=8,\n",
    "    dff=512,\n",
    "    input_seq_len=20\n",
    ")\n",
    "\n",
    "projection_layer = tf.keras.layers.Dense(input_feature_size)  # Use `input_feature_size`\n",
    "X_test_transformed = projection_layer(X_test)\n",
    "\n",
    "y_pred_transformer = transformer_model(X_test_transformed)\n",
    "\n",
    "print(\"Predicted Output Shape:\", y_pred_transformer.shape)  # Expected: (10, 1)"
   ]
  },
  {
   "cell_type": "code",
   "execution_count": null,
   "id": "c40ef53b-3a83-4f2a-954d-a5126f3b0eed",
   "metadata": {},
   "outputs": [],
   "source": [
    "'''models = {\n",
    "    'LSTM': lstm_model,\n",
    "    'XGBoost': xgb_model,\n",
    "    'Gaussian Process': gp_model,\n",
    "    'Transformer': transformer_model\n",
    "}  ''' \n",
    "models = {\n",
    "    'LSTM1': lstm_model,\n",
    "    'LSTM2': lstm_model  # Duplicate model with different names\n",
    "}\n",
    "evaluator = ModelEvaluator(models, X_test, y_test, ticker)\n",
    "\n",
    "# ✅ Evaluate models\n",
    "evaluation_results, y_predictions = evaluator.evaluate()\n",
    "\n",
    "# ✅ Print results to console\n",
    "for model, metrics in evaluation_results.items():\n",
    "    print(f\"\\nModel: {model}\")\n",
    "    for metric, value in metrics.items():\n",
    "        print(f\"{metric}: {value:.4f}\")\n",
    "\n",
    "# ✅ Plot metrics and save to the next page in the PDF\n",
    "fig2 = evaluator.plot_metrics()\n",
    "pdf_pages.savefig(fig2)  # Save evaluation plot to a new page\n",
    "print(\"Evaluation metrics plot saved to PDF (Page 2).\")\n",
    "\n",
    "# ✅ Close the PDF file\n",
    "pdf_pages.close()\n",
    "print(f\"PDF successfully saved with all plots in: {pdf_path}\")"
   ]
  },
  {
   "cell_type": "code",
   "execution_count": null,
   "id": "6141148c-ebbe-472d-94a6-c13f90a91dc5",
   "metadata": {},
   "outputs": [],
   "source": [
    "# Assuming you have predictions from LSTM, XGBoost, and Gaussian Process\n",
    "'''predictions = {\n",
    "    'LSTM': y_pred_lstm,\n",
    "    'XGBoost': y_pred_xgb,\n",
    "    'GP': y_pred_gp,\n",
    "    'Transformer': y_pred_transformer\n",
    "}'''\n",
    "predictions = {\n",
    "    'LSTM': y_pred_lstm\n",
    "}\n",
    "\n",
    "# Ensure sigma_gp is defined before using it\n",
    "if 'sigma_gp' in globals():\n",
    "    std_devs = {'GP': sigma_gp}  # Use GP standard deviation if available\n",
    "else:\n",
    "    std_devs = {}  # No Gaussian Process uncertainty available\n",
    "\n",
    "# Initialize visualizer\n",
    "visualizer = TimeSeriesVisualizer(y_test, predictions, ticker, std_devs)\n",
    "\n",
    "# Correct way to plot all models in subplots\n",
    "visualizer.plot_predictions()\n",
    "\n",
    "# Compare all models in a single plot\n",
    "visualizer.compare_models()"
   ]
  },
  {
   "cell_type": "code",
   "execution_count": null,
   "id": "59848d5f-eef7-4ea2-9243-873b40f5c754",
   "metadata": {},
   "outputs": [],
   "source": [
    "# Initialize the backtesting strategy\n",
    "backtester = BacktestStrategy(initial_balance=10000, transaction_cost=0.001)\n",
    "\n",
    "# Run backtest for each model\n",
    "results_lstm = backtester.backtest(y_test, y_pred_lstm, model_name=\"LSTM\")\n",
    "##results_xgb = backtester.backtest(y_test, y_pred_xgb, model_name=\"XGBoost\")\n",
    "##results_gp = backtester.backtest(y_test, y_pred_gp, model_name=\"Gaussian Process\")\n",
    "\n",
    "# Evaluate performance\n",
    "metrics_lstm = backtester.evaluate_performance(results_lstm)\n",
    "##metrics_xgb = backtester.evaluate_performance(results_xgb)\n",
    "##metrics_gp = backtester.evaluate_performance(results_gp)\n",
    "\n",
    "# Plot results\n",
    "backtester.plot_results(results_lstm, model_name=\"LSTM\")\n",
    "##backtester.plot_results(results_xgb, model_name=\"XGBoost\")\n",
    "##backtester.plot_results(results_gp, model_name=\"Gaussian Process\")"
   ]
  }
 ],
 "metadata": {
  "kernelspec": {
   "display_name": "Python 3 (ipykernel)",
   "language": "python",
   "name": "python3"
  },
  "language_info": {
   "codemirror_mode": {
    "name": "ipython",
    "version": 3
   },
   "file_extension": ".py",
   "mimetype": "text/x-python",
   "name": "python",
   "nbconvert_exporter": "python",
   "pygments_lexer": "ipython3",
   "version": "3.9.21"
  }
 },
 "nbformat": 4,
 "nbformat_minor": 5
}
